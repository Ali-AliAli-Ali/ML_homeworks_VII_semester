{
 "cells": [
  {
   "cell_type": "markdown",
   "id": "f1c368f2",
   "metadata": {},
   "source": [
    "\n",
    "<div class=\"alert alert-success\">\n",
    "    \n",
    "## Домашнее задание 1: RNN и языковые модели \n",
    "\n",
    "### Общая информация\n",
    "\n",
    "Дата выдачи: 09.11.2023\n",
    "\n",
    "Мягкий дедлайн: 23:59MSK 23.11.2023\n",
    "\n",
    "Жесткий дедлайн: 23:59MSK 30.11.2023\n",
    "\n",
    "#### Владимирова Элина, оценка - 7,6"
   ]
  },
  {
   "cell_type": "markdown",
   "id": "52cee7cc",
   "metadata": {},
   "source": [
    "### Оценивание и штрафы\n",
    "\n",
    "Максимально допустимая оценка за работу — 15 баллов.Сдавать задание после указанного срока жесткого дедлайна нельзя. После сдачи мягкого дедлайна с каждый днем вычитаются по 1 баллу.\n",
    "\n",
    "Задание выполняется самостоятельно. «Похожие» решения считаются плагиатом и все задействованные студенты (в том числе те, у кого списали) не могут получить за него больше 0 баллов. Если вы нашли решение какого-то из заданий (или его часть) в открытом источнике, необходимо указать ссылку на этот источник в отдельном блоке в конце вашей работы (скорее всего вы будете не единственным, кто это нашел, поэтому чтобы исключить подозрение в плагиате, необходима ссылка на источник).\n",
    "\n",
    "Неэффективная реализация кода может негативно отразиться на оценке. Также оценка может быть снижена за плохо читаемый код и плохо оформленные графики. Все ответы должны сопровождаться кодом или комментариями о том, как они были получены.\n",
    "\n",
    "### О задании\n",
    "\n",
    "В этом задании вам предстоит обучить рекуррентную нейронную сеть для задачи генерации текстов. В качестве данных возьмем набор из 120 тысяч анекдотов (всех категорий от А до Я включительно). Его вы можете найти в архиве `jokes.txt.zip`, который доступен по [ссылке](https://disk.yandex.com/d/fjt5xICH-ukEEA)."
   ]
  },
  {
   "cell_type": "code",
   "execution_count": 1,
   "id": "b35b1cee",
   "metadata": {},
   "outputs": [],
   "source": [
    "%load_ext autoreload\n",
    "%autoreload 2"
   ]
  },
  {
   "cell_type": "markdown",
   "id": "1daae037",
   "metadata": {},
   "source": [
    "## Задание 1: Dataset (1 балл)\n",
    "\n",
    "В этом задании мы будет пользоваться библиотекой [sentencepiece](https://github.com/google/sentencepiece), которая поддерживает разные форматы токенизации текстов, в том числе BPE, который мы и будем использовать. Реализуйте недостающие фрагменты кода в классе `TextDataset` в файле `dataset.py`. Датасет обучает sentencepiece токенизатор, токенизирует тексты, превращает токены в индексы и паддит до одной и той же длины (параметр `max_length`). Не забудьте, что для генерации текстов нам будут нужны специальные токены начала и конца последовательности, соответственно `BOS` и `EOS`. Существуют еще два специальных токена &mdash; паддинг `PAD` и токен `UNK`, заменяющий out-of-vocabulary токены."
   ]
  },
  {
   "cell_type": "code",
   "execution_count": 2,
   "id": "2dfa4648",
   "metadata": {
    "vscode": {
     "languageId": "powershell"
    }
   },
   "outputs": [],
   "source": [
    "# %pip install sentencepiece"
   ]
  },
  {
   "cell_type": "code",
   "execution_count": 1,
   "id": "a0ed11c5",
   "metadata": {},
   "outputs": [],
   "source": [
    "import torch\n",
    "import numpy as np"
   ]
  },
  {
   "cell_type": "code",
   "execution_count": 2,
   "id": "425fe6e5",
   "metadata": {},
   "outputs": [],
   "source": [
    "from dataset import TextDataset"
   ]
  },
  {
   "cell_type": "code",
   "execution_count": 3,
   "id": "81630e30",
   "metadata": {},
   "outputs": [],
   "source": [
    "train_set = TextDataset(data_file='jokes.txt', train=True, sp_model_prefix='bpe')\n",
    "valid_set = TextDataset(data_file='jokes.txt', train=False, sp_model_prefix='bpe')"
   ]
  },
  {
   "cell_type": "code",
   "execution_count": 6,
   "id": "27555b9a",
   "metadata": {},
   "outputs": [],
   "source": [
    "# Код должен проходить тесты\n",
    "assert len(train_set) + len(valid_set) == 120759\n",
    "\n",
    "for i in range(len(valid_set) - 1):\n",
    "    for dataset in (train_set, valid_set):\n",
    "        indices, length = dataset[i]#np.random.randint(len(dataset))]\n",
    "        assert indices.shape == (dataset.max_length, )\n",
    "        assert indices[0].item() == dataset.bos_id\n",
    "        assert (indices == dataset.eos_id).sum().item() == 1\n",
    "\n",
    "        eos_pos = indices.tolist().index(dataset.eos_id)\n",
    "        assert torch.all(indices[eos_pos + 1:] == dataset.pad_id)\n",
    "        assert (indices != dataset.pad_id).sum() == length"
   ]
  },
  {
   "cell_type": "markdown",
   "id": "5db087d5",
   "metadata": {},
   "source": [
    "## Задание 2 Language model (3.5 балла)\n",
    "\n",
    "Реализуйте класс `LanguageModel` из файла `model.py`. Мы будем генерировать текст с помощью языковой модели &mdash; это авторегрессионная вероятностная модель, которая предсказывает распределение следующего токена при условии предыдущих:\n",
    "\n",
    "$$\n",
    "p(x_1, x_2, x_3, \\dots, x_T) = p(x_1) \\cdot p(x_2 | x_1) \\cdot p(x_3|x_1, x_2) \\, \\cdot \\, \\dots \\, \\cdot \\, p(x_T|x_1, \\dots, x_{T-1})\n",
    "$$\n",
    "\n",
    "Мы будем реализовывать ее с помощью рекуррентной нейронной сети. Ваш код должен поддерживать возможность работать как с оригинальной [RNN](https://pytorch.org/docs/stable/generated/torch.nn.RNN.html#torch.nn.RNN), так и c [LSTM](https://bitly.com/98K8eH). На каждом временном шаге модель возвращает логиты вероятностей для следующего токена. Модель будет работать в двух режимах (не путать с `.train()` и `.eval()`):\n",
    "\n",
    "- В режиме обучения (метод `forward`) модель принимает настоящие последовательности из датасета и их длины. На каждом временном шаге возвращаются логиты вероятностей следующего токена, что позволяет считать лосс, обучаться на трейне и валидироваться на валидации.\n",
    "\n",
    "- В режиме генерации (инференса, метод `inference`) модель принимает некоторый префикс (возможно пустой), с которого начинать генерацию, и продолжает его. Для этого на каждом шаге генерируются новые логиты, семплируется новый токен (из распределения, заданного логитами), и процесс продолжается, пока не будет сгенерирован токен `EOS` или не будет достигнуто ограничение на длину последовательности. **Обратите внимание**, что вам не нужно прогонять всю последовательность заново через RNN после каждого нового токена, это приведет к квадратичной сложности по длине последовательности. Вам достаточно обновлять скрытое состояние, подавая на вход новый сгенерированный токен и предыдущее скрытое состояние. Кроме того, чтобы получить больше контроля над генерацией, вводится параметр температуры `temp`. Перед семплированием нужно разделить на него логиты, полученные моделью. "
   ]
  },
  {
   "cell_type": "code",
   "execution_count": 4,
   "id": "378c1231",
   "metadata": {},
   "outputs": [],
   "source": [
    "from model import LanguageModel"
   ]
  },
  {
   "cell_type": "code",
   "execution_count": 5,
   "id": "99427388",
   "metadata": {},
   "outputs": [],
   "source": [
    "model = LanguageModel(train_set)"
   ]
  },
  {
   "cell_type": "code",
   "execution_count": 50,
   "id": "199406f1",
   "metadata": {},
   "outputs": [],
   "source": [
    "# Код должен проходить тесты\n",
    "for bs in [1, 4, 16, 64, 256]:\n",
    "    indices = torch.randint(high=train_set.vocab_size, size=(bs, train_set.max_length))\n",
    "    lengths = torch.randint(low=1, high=train_set.max_length + 1, size=(bs, ))\n",
    "    logits = model(indices, lengths)\n",
    "    assert logits.shape == (bs, lengths.max(), train_set.vocab_size)\n",
    "\n",
    "for prefix in ['', 'купил мужик шляпу,', 'сел медведь в машину и', 'подумал штирлиц']:\n",
    "    generated = model.inference(prefix, temp=np.random.uniform(0.1, 10))\n",
    "    assert type(generated) == str\n",
    "    assert generated.startswith(prefix)"
   ]
  },
  {
   "cell_type": "markdown",
   "id": "a7eacf83",
   "metadata": {},
   "source": [
    "## Задание 3: Training (2 балла)\n",
    "\n",
    "Всё, что нам осталось &mdash; реализовать цикл обучения. Заполните пропуски в файле `train.py`. Не забудьте, что мы учим модель предсказывать вероятность следующего, а не текущего токена. Также рекомендуется обрезать батч индексов по самой длинной последовательности, чтобы не гонять паддинги вхолостую. Для оценки качества генерации будем использовать метрику [perplexity](https://towardsdatascience.com/perplexity-in-language-models-87a196019a94). Реализуйте ее подсчет в функции `plot_losses` (да, для этого достаточно только значения лосса).\n",
    "\n",
    "Обучите модель, используя ванильную RNN в качестве рекуррентного слоя. Сохраните чекпойнт обученной модели, он нам еще пригодится. "
   ]
  },
  {
   "cell_type": "code",
   "execution_count": 6,
   "id": "fd6ab7dd",
   "metadata": {},
   "outputs": [],
   "source": [
    "from train import train\n",
    "from torch.utils.data import DataLoader\n",
    "\n",
    "train_loader = DataLoader(train_set, batch_size=256, shuffle=True)\n",
    "valid_loader = DataLoader(valid_set, batch_size=256, shuffle=True)\n",
    "\n",
    "optimizer = torch.optim.Adam(model.parameters())\n",
    "scheduler = torch.optim.lr_scheduler.CosineAnnealingLR(optimizer, T_max=10, eta_min=0)"
   ]
  },
  {
   "cell_type": "code",
   "execution_count": 7,
   "id": "94ad3d3a",
   "metadata": {},
   "outputs": [
    {
     "data": {
      "image/png": "[encoded data removed]",
      "text/plain": [
       "<Figure size 1300x400 with 2 Axes>"
      ]
     },
     "metadata": {},
     "output_type": "display_data"
    },
    {
     "name": "stdout",
     "output_type": "stream",
     "text": [
      "Generation examples:\n",
      "профессор спрашивает- вовочка, это я вот хотели сложится.\n",
      "- папа, дорогой, а почему вчера избыле при жизни со скарьй писами!\n",
      "- скажите, это что так быстро пятила лет деревен?- да!- как?- ее надо уже только обязательно видели голубей, и из заел. спасибо  ⁇  раза такой самобу...г !\n"
     ]
    }
   ],
   "source": [
    "train(\n",
    "    model=model,\n",
    "    optimizer=optimizer,\n",
    "    scheduler=scheduler,\n",
    "    train_loader=train_loader,\n",
    "    val_loader=valid_loader,\n",
    "    num_epochs=10,\n",
    "    num_examples=3\n",
    ")"
   ]
  },
  {
   "cell_type": "code",
   "execution_count": 8,
   "id": "ba4485b8",
   "metadata": {},
   "outputs": [],
   "source": [
    "torch.save(model, 'RNN_1.pt')"
   ]
  },
  {
   "cell_type": "markdown",
   "id": "86dad5e1",
   "metadata": {},
   "source": [
    "## Задание 4: LSTM (0.5 балла)\n",
    "\n",
    "Обучите аналогичную модель, но с LSTM в качестве рекуррентного слоя. Сравните модели по метрикам и генерации. Не забывайте про чекпойнты!"
   ]
  },
  {
   "cell_type": "code",
   "execution_count": 9,
   "id": "bd1990fb",
   "metadata": {},
   "outputs": [],
   "source": [
    "model_lstm = LanguageModel(train_set, rnn_type=torch.nn.LSTM)\n",
    "optimizer_lstm = torch.optim.Adam(model_lstm.parameters())\n",
    "scheduler_lstm = torch.optim.lr_scheduler.CosineAnnealingLR(optimizer, T_max=10, eta_min=0)"
   ]
  },
  {
   "cell_type": "code",
   "execution_count": 10,
   "id": "d457cd6f",
   "metadata": {},
   "outputs": [
    {
     "data": {
      "application/vnd.jupyter.widget-view+json": {
       "model_id": "bb9f327760ef4db190d8ebe41da2e3ec",
       "version_major": 2,
       "version_minor": 0
      },
      "text/plain": [
       "Training 1/10:   0%|          | 0/449 [00:00<?, ?it/s]"
      ]
     },
     "metadata": {},
     "output_type": "display_data"
    },
    {
     "ename": "KeyboardInterrupt",
     "evalue": "",
     "output_type": "error",
     "traceback": [
      "\u001b[1;31m---------------------------------------------------------------------------\u001b[0m",
      "\u001b[1;31mKeyboardInterrupt\u001b[0m                         Traceback (most recent call last)",
      "Cell \u001b[1;32mIn[10], line 1\u001b[0m\n\u001b[1;32m----> 1\u001b[0m \u001b[43mtrain\u001b[49m\u001b[43m(\u001b[49m\n\u001b[0;32m      2\u001b[0m \u001b[43m    \u001b[49m\u001b[43mmodel\u001b[49m\u001b[38;5;241;43m=\u001b[39;49m\u001b[43mmodel_lstm\u001b[49m\u001b[43m,\u001b[49m\n\u001b[0;32m      3\u001b[0m \u001b[43m    \u001b[49m\u001b[43moptimizer\u001b[49m\u001b[38;5;241;43m=\u001b[39;49m\u001b[43moptimizer_lstm\u001b[49m\u001b[43m,\u001b[49m\n\u001b[0;32m      4\u001b[0m \u001b[43m    \u001b[49m\u001b[43mscheduler\u001b[49m\u001b[38;5;241;43m=\u001b[39;49m\u001b[43mscheduler_lstm\u001b[49m\u001b[43m,\u001b[49m\n\u001b[0;32m      5\u001b[0m \u001b[43m    \u001b[49m\u001b[43mtrain_loader\u001b[49m\u001b[38;5;241;43m=\u001b[39;49m\u001b[43mtrain_loader\u001b[49m\u001b[43m,\u001b[49m\n\u001b[0;32m      6\u001b[0m \u001b[43m    \u001b[49m\u001b[43mval_loader\u001b[49m\u001b[38;5;241;43m=\u001b[39;49m\u001b[43mvalid_loader\u001b[49m\u001b[43m,\u001b[49m\n\u001b[0;32m      7\u001b[0m \u001b[43m    \u001b[49m\u001b[43mnum_epochs\u001b[49m\u001b[38;5;241;43m=\u001b[39;49m\u001b[38;5;241;43m10\u001b[39;49m\u001b[43m,\u001b[49m\n\u001b[0;32m      8\u001b[0m \u001b[43m    \u001b[49m\u001b[43mnum_examples\u001b[49m\u001b[38;5;241;43m=\u001b[39;49m\u001b[38;5;241;43m3\u001b[39;49m\n\u001b[0;32m      9\u001b[0m \u001b[43m)\u001b[49m\n",
      "File \u001b[1;32mc:\\Users\\эля\\Desktop\\Вузовские работы\\ML, VII семестр\\hmwrk2\\train.py:132\u001b[0m, in \u001b[0;36mtrain\u001b[1;34m(model, optimizer, scheduler, train_loader, val_loader, num_epochs, num_examples)\u001b[0m\n\u001b[0;32m    129\u001b[0m criterion \u001b[38;5;241m=\u001b[39m nn\u001b[38;5;241m.\u001b[39mCrossEntropyLoss(ignore_index\u001b[38;5;241m=\u001b[39mtrain_loader\u001b[38;5;241m.\u001b[39mdataset\u001b[38;5;241m.\u001b[39mpad_id)\n\u001b[0;32m    131\u001b[0m \u001b[38;5;28;01mfor\u001b[39;00m epoch \u001b[38;5;129;01min\u001b[39;00m \u001b[38;5;28mrange\u001b[39m(\u001b[38;5;241m1\u001b[39m, num_epochs \u001b[38;5;241m+\u001b[39m \u001b[38;5;241m1\u001b[39m):\n\u001b[1;32m--> 132\u001b[0m     train_loss \u001b[38;5;241m=\u001b[39m \u001b[43mtraining_epoch\u001b[49m\u001b[43m(\u001b[49m\n\u001b[0;32m    133\u001b[0m \u001b[43m        \u001b[49m\u001b[43mmodel\u001b[49m\u001b[43m,\u001b[49m\u001b[43m \u001b[49m\u001b[43moptimizer\u001b[49m\u001b[43m,\u001b[49m\u001b[43m \u001b[49m\u001b[43mcriterion\u001b[49m\u001b[43m,\u001b[49m\u001b[43m \u001b[49m\u001b[43mtrain_loader\u001b[49m\u001b[43m,\u001b[49m\n\u001b[0;32m    134\u001b[0m \u001b[43m        \u001b[49m\u001b[43mtqdm_desc\u001b[49m\u001b[38;5;241;43m=\u001b[39;49m\u001b[38;5;124;43mf\u001b[39;49m\u001b[38;5;124;43m'\u001b[39;49m\u001b[38;5;124;43mTraining \u001b[39;49m\u001b[38;5;132;43;01m{\u001b[39;49;00m\u001b[43mepoch\u001b[49m\u001b[38;5;132;43;01m}\u001b[39;49;00m\u001b[38;5;124;43m/\u001b[39;49m\u001b[38;5;132;43;01m{\u001b[39;49;00m\u001b[43mnum_epochs\u001b[49m\u001b[38;5;132;43;01m}\u001b[39;49;00m\u001b[38;5;124;43m'\u001b[39;49m\n\u001b[0;32m    135\u001b[0m \u001b[43m    \u001b[49m\u001b[43m)\u001b[49m\n\u001b[0;32m    136\u001b[0m     val_loss \u001b[38;5;241m=\u001b[39m validation_epoch(\n\u001b[0;32m    137\u001b[0m         model, criterion, val_loader,\n\u001b[0;32m    138\u001b[0m         tqdm_desc\u001b[38;5;241m=\u001b[39m\u001b[38;5;124mf\u001b[39m\u001b[38;5;124m'\u001b[39m\u001b[38;5;124mValidating \u001b[39m\u001b[38;5;132;01m{\u001b[39;00mepoch\u001b[38;5;132;01m}\u001b[39;00m\u001b[38;5;124m/\u001b[39m\u001b[38;5;132;01m{\u001b[39;00mnum_epochs\u001b[38;5;132;01m}\u001b[39;00m\u001b[38;5;124m'\u001b[39m\n\u001b[0;32m    139\u001b[0m     )\n\u001b[0;32m    141\u001b[0m     \u001b[38;5;28;01mif\u001b[39;00m scheduler \u001b[38;5;129;01mis\u001b[39;00m \u001b[38;5;129;01mnot\u001b[39;00m \u001b[38;5;28;01mNone\u001b[39;00m:\n",
      "File \u001b[1;32mc:\\Users\\эля\\Desktop\\Вузовские работы\\ML, VII семестр\\hmwrk2\\train.py:76\u001b[0m, in \u001b[0;36mtraining_epoch\u001b[1;34m(model, optimizer, criterion, loader, tqdm_desc)\u001b[0m\n\u001b[0;32m     73\u001b[0m     train_loss \u001b[38;5;241m+\u001b[39m\u001b[38;5;241m=\u001b[39m loss\u001b[38;5;241m.\u001b[39mitem() \u001b[38;5;241m*\u001b[39m indices\u001b[38;5;241m.\u001b[39mshape[\u001b[38;5;241m0\u001b[39m]\n\u001b[0;32m     75\u001b[0m     optimizer\u001b[38;5;241m.\u001b[39mzero_grad()\n\u001b[1;32m---> 76\u001b[0m     \u001b[43mloss\u001b[49m\u001b[38;5;241;43m.\u001b[39;49m\u001b[43mbackward\u001b[49m\u001b[43m(\u001b[49m\u001b[43m)\u001b[49m\n\u001b[0;32m     77\u001b[0m     optimizer\u001b[38;5;241m.\u001b[39mstep()\n\u001b[0;32m     79\u001b[0m train_loss \u001b[38;5;241m/\u001b[39m\u001b[38;5;241m=\u001b[39m \u001b[38;5;28mlen\u001b[39m(loader\u001b[38;5;241m.\u001b[39mdataset)\n",
      "File \u001b[1;32mc:\\Users\\эля\\AppData\\Local\\Programs\\Python\\Python310\\lib\\site-packages\\torch\\_tensor.py:396\u001b[0m, in \u001b[0;36mTensor.backward\u001b[1;34m(self, gradient, retain_graph, create_graph, inputs)\u001b[0m\n\u001b[0;32m    387\u001b[0m \u001b[38;5;28;01mif\u001b[39;00m has_torch_function_unary(\u001b[38;5;28mself\u001b[39m):\n\u001b[0;32m    388\u001b[0m     \u001b[38;5;28;01mreturn\u001b[39;00m handle_torch_function(\n\u001b[0;32m    389\u001b[0m         Tensor\u001b[38;5;241m.\u001b[39mbackward,\n\u001b[0;32m    390\u001b[0m         (\u001b[38;5;28mself\u001b[39m,),\n\u001b[1;32m   (...)\u001b[0m\n\u001b[0;32m    394\u001b[0m         create_graph\u001b[38;5;241m=\u001b[39mcreate_graph,\n\u001b[0;32m    395\u001b[0m         inputs\u001b[38;5;241m=\u001b[39minputs)\n\u001b[1;32m--> 396\u001b[0m \u001b[43mtorch\u001b[49m\u001b[38;5;241;43m.\u001b[39;49m\u001b[43mautograd\u001b[49m\u001b[38;5;241;43m.\u001b[39;49m\u001b[43mbackward\u001b[49m\u001b[43m(\u001b[49m\u001b[38;5;28;43mself\u001b[39;49m\u001b[43m,\u001b[49m\u001b[43m \u001b[49m\u001b[43mgradient\u001b[49m\u001b[43m,\u001b[49m\u001b[43m \u001b[49m\u001b[43mretain_graph\u001b[49m\u001b[43m,\u001b[49m\u001b[43m \u001b[49m\u001b[43mcreate_graph\u001b[49m\u001b[43m,\u001b[49m\u001b[43m \u001b[49m\u001b[43minputs\u001b[49m\u001b[38;5;241;43m=\u001b[39;49m\u001b[43minputs\u001b[49m\u001b[43m)\u001b[49m\n",
      "File \u001b[1;32mc:\\Users\\эля\\AppData\\Local\\Programs\\Python\\Python310\\lib\\site-packages\\torch\\autograd\\__init__.py:173\u001b[0m, in \u001b[0;36mbackward\u001b[1;34m(tensors, grad_tensors, retain_graph, create_graph, grad_variables, inputs)\u001b[0m\n\u001b[0;32m    168\u001b[0m     retain_graph \u001b[38;5;241m=\u001b[39m create_graph\n\u001b[0;32m    170\u001b[0m \u001b[38;5;66;03m# The reason we repeat same the comment below is that\u001b[39;00m\n\u001b[0;32m    171\u001b[0m \u001b[38;5;66;03m# some Python versions print out the first line of a multi-line function\u001b[39;00m\n\u001b[0;32m    172\u001b[0m \u001b[38;5;66;03m# calls in the traceback and some print out the last line\u001b[39;00m\n\u001b[1;32m--> 173\u001b[0m \u001b[43mVariable\u001b[49m\u001b[38;5;241;43m.\u001b[39;49m\u001b[43m_execution_engine\u001b[49m\u001b[38;5;241;43m.\u001b[39;49m\u001b[43mrun_backward\u001b[49m\u001b[43m(\u001b[49m\u001b[43m  \u001b[49m\u001b[38;5;66;43;03m# Calls into the C++ engine to run the backward pass\u001b[39;49;00m\n\u001b[0;32m    174\u001b[0m \u001b[43m    \u001b[49m\u001b[43mtensors\u001b[49m\u001b[43m,\u001b[49m\u001b[43m \u001b[49m\u001b[43mgrad_tensors_\u001b[49m\u001b[43m,\u001b[49m\u001b[43m \u001b[49m\u001b[43mretain_graph\u001b[49m\u001b[43m,\u001b[49m\u001b[43m \u001b[49m\u001b[43mcreate_graph\u001b[49m\u001b[43m,\u001b[49m\u001b[43m \u001b[49m\u001b[43minputs\u001b[49m\u001b[43m,\u001b[49m\n\u001b[0;32m    175\u001b[0m \u001b[43m    \u001b[49m\u001b[43mallow_unreachable\u001b[49m\u001b[38;5;241;43m=\u001b[39;49m\u001b[38;5;28;43;01mTrue\u001b[39;49;00m\u001b[43m,\u001b[49m\u001b[43m \u001b[49m\u001b[43maccumulate_grad\u001b[49m\u001b[38;5;241;43m=\u001b[39;49m\u001b[38;5;28;43;01mTrue\u001b[39;49;00m\u001b[43m)\u001b[49m\n",
      "\u001b[1;31mKeyboardInterrupt\u001b[0m: "
     ]
    }
   ],
   "source": [
    "train(\n",
    "    model=model_lstm,\n",
    "    optimizer=optimizer_lstm,\n",
    "    scheduler=scheduler_lstm,\n",
    "    train_loader=train_loader,\n",
    "    val_loader=valid_loader,\n",
    "    num_epochs=10,\n",
    "    num_examples=3\n",
    ")"
   ]
  },
  {
   "cell_type": "code",
   "execution_count": null,
   "id": "4c1c015b",
   "metadata": {},
   "outputs": [],
   "source": [
    "torch.save(model_lstm, 'LSTM_1.pt')"
   ]
  },
  {
   "cell_type": "markdown",
   "id": "2d23819c",
   "metadata": {},
   "source": [
    "## Задание 5: Sampling temperature (0.5 балла)\n",
    "\n",
    "Поэкспериментируйте, как результат генерации зависит от параметра температуры. Попробуйте генерацию с разными префиксами. Сделайте выводы. "
   ]
  },
  {
   "cell_type": "code",
   "execution_count": 13,
   "id": "14bd1bfb",
   "metadata": {},
   "outputs": [
    {
     "name": "stdout",
     "output_type": "stream",
     "text": [
      "0.1\n",
      "- а ты знаешь, что у вас есть?- да, я не знаю, что ты не знаешь, что я не могу, чтобы не помещать.\n",
      "колобок, а не у меня, а не включили.\n",
      "штирлиц начал, что в россии - это когда в россии.\n",
      "заходит улитка в бар и говорит- я не могу, чтобы не выдерживать.\n",
      "0.2\n",
      "- а что такое?- да, а я не могу.\n",
      "колобок, а ты не знаешь, что я не могу понять, что ты не выходишь, что это не поколение, что ты не выдерживает.\n",
      "штирлиц началлюдать в том, что я не могу понять, что это не устраивать.\n",
      "заходит улитка в бар и не дает.\n",
      "0.30000000000000004\n",
      "- я не понимаю, что у вас есть?- да, я бы не могли бы ее в ногу.\n",
      "колобок!\n",
      "штирлиц началлюдать в том, что у вас нет.\n",
      "заходит улитка в бар и зависит от того, что он не выдерживает.\n",
      "0.4\n",
      "- а что вы не замужем?- да, то, что сейчас, а на что-то с ним, то, что он не работали!\n",
      "колобокция в каком возрасте не будет.\n",
      "штирлиц начал говорить, что я не могу понять, что я не могу понять, что я не могу понять, что я полезно.\n",
      "заходит улитка в бар и говорит- ты что, повесили?\n",
      "0.5\n",
      "- абрам, вы изменила?- я не могу, как он мне еще не было.\n",
      "колобок, а если вы не пойму, что я не поколение, что ли?\n",
      "штирлиц начал отдать придется научить.\n",
      "заходит улитка в бар и говорит- а я вчера прошел в публичный дом-то!\n",
      "0.6\n",
      "- вот я не могу дольше, а в какомму кабинетана или ?- с каждым днем рождения.\n",
      "колобокционную розом иду, что вы отчаяет, что она стоит замерть!\n",
      "штирлиц начал.\n",
      "заходит улитка в бар и говорит- что это вам, ты же сказал, что я в постели?- да, что-то и не прошлый час-то, я уже два раза в асфальт.- а какой же ты уже нибудь мне не помогает.\n",
      "0.7000000000000001\n",
      "- папа, мама, а ты сейчас где?- коридор!\n",
      "колобок, а в таком случае, что ты это переорал, что не результат?- а я утек был и собрался...\n",
      "штирлиц начал здесь наверное?\n",
      "заходит улитка в бар и соскучился, клев.\n",
      "0.8\n",
      "пивт маял в какомугу, а в россии в современной россии, в неделю ухловье свою часть. и остается два коньяк.\n",
      "колобок - пока не выходили с ним.\n",
      "штирлиц началковой девушке- интересуешь, а я сказал, что у него было.\n",
      "заходит улитка в бар и спрашивает- а с чего ты хочешь не делаете, но она меня оплатила!- а ты на всю жизнь в детстве выбираетесь?- полюдовой новых.\n",
      "0.9\n",
      "если новому слабость от ночей извесимых, и тут найти страшный джион умерла чувствовать дверь. спокойный голов в кабе плани увеличеных.- нет стул, и в тара часа.\n",
      "колобок на лодный звонок.\n",
      "штирлиц начал познакомиться к святой по перемора.\n",
      "заходит улитка в бар и спрашивает- если бы змей женщины, у меня есть шарик!\n"
     ]
    }
   ],
   "source": [
    "for temp in np.arange(0.1, 1.0, 0.1):\n",
    "    print(temp)\n",
    "    for prefix in ['', 'колобок', 'штирлиц начал', 'заходит улитка в бар и']:\n",
    "        print(model.inference(prefix, temp))"
   ]
  },
  {
   "cell_type": "markdown",
   "id": "ff3967c7",
   "metadata": {},
   "source": [
    "## Задание 5: Tokenizers (1 балл)\n",
    "\n",
    "До сих пор мы использовали BPE токенизатор с относительно небольшим числом токенов (2000 по умолчанию). Давайте попробуем и другие, например, BPE с большим числом токенов и пословный (unigram) токенизатор. Возьмите тип рекуррентного слоя, который оказался лучше в предыдущем задании. Обучите модели на таких токенизаторах и сравните их генерацию. Не забывайте сохранять чекпойнты. Правильно ли сравнивать между собой получившиеся модели по значению perplexity? Почему?"
   ]
  },
  {
   "cell_type": "code",
   "execution_count": null,
   "id": "4589b3d9",
   "metadata": {},
   "outputs": [],
   "source": [
    "# YOUR CODE HERE (⊃｡•́‿•̀｡)⊃━✿✿✿✿✿✿"
   ]
  },
  {
   "cell_type": "markdown",
   "id": "bc550928",
   "metadata": {},
   "source": [
    "## Задание 6. Latent Semantic Analysis (2 балла)\n",
    "\n",
    "Попробуем другой подход к оцениванию качества генерации, основанный на [Latent Semantic Analysis](https://en.wikipedia.org/wiki/Latent_semantic_analysis). Реализуйте следующую метрику и сравните по ней модели, обученные с разными токенизаторами:\n",
    "\n",
    "1. Генерируем обученной моделью выборку текстов, совпадающую по размеру с валидационной выборкой.\n",
    "2. Объединяем две выборки текстов (валидационную и сгенерированную) в один корпус. Обратите внимание, что наша токенизация в общем случае необратима, поэтому для чистоты эксперимента нужно закодировать и декодировать валидационную выборку.\n",
    "3. Генерируем tf-idf матрицу для полученного корпуса.\n",
    "4. Понижаем размерность матрицы с помощью [SVD](https://scikit-learn.org/stable/modules/generated/sklearn.decomposition.TruncatedSVD.html).\n",
    "5. Теперь у нас есть векторы, описывающие валидационные и сгенерированные тексты, лежащие в одном пространстве. Для каждого вектора, отвечающего сгенерированному тексту, найдем наибольший cosine similarity между ним и вектором валидационного текста. Усредним такие similarity по всем сгенерированным текстам и получим число, характеризующее похожесть сгенерированной выборки на валидационную.\n",
    "\n",
    "Какие плюсы и минусы есть у описанной метрики?"
   ]
  },
  {
   "cell_type": "code",
   "execution_count": null,
   "id": "1415e3c9",
   "metadata": {},
   "outputs": [],
   "source": [
    "# YOUR CODE HERE (⊃｡•́‿•̀｡)⊃━✿✿✿✿✿✿"
   ]
  },
  {
   "cell_type": "markdown",
   "id": "07e632af",
   "metadata": {},
   "source": [
    "## Задание 7. Visualization (1 балл)\n",
    "\n",
    "В прошлом пункте мы получили векторы, описывающие валидационные и сгенерированные тексты. Попробуем визуализировать их. Примените [TSNE](https://scikit-learn.org/stable/modules/generated/sklearn.manifold.TSNE.html) к этим векторам и нарисуйте scatter-plot с получившимися двумерными представлениями. Точки, соответствующие валидационным и сгенерированным текстам, должны быть разного цвета. Визуализируйте таким образом все три модели для разных токенизаторов. "
   ]
  },
  {
   "cell_type": "code",
   "execution_count": null,
   "id": "2aada1d3",
   "metadata": {},
   "outputs": [],
   "source": [
    "# YOUR CODE HERE (⊃｡•́‿•̀｡)⊃━✿✿✿✿✿✿"
   ]
  },
  {
   "cell_type": "markdown",
   "id": "41d9cba5",
   "metadata": {},
   "source": [
    "## Задание 8. ruGPT perplexity (3.5 балла)\n",
    "\n",
    "Подход Latent Semantic Analysis, как и многие другие классические методы, заметно уступает нейросетевым алгоритмам анализа текстов. Вернемся к оцениванию качества генерации с помощью perplexity, для этого возьмем большую и хорошо обученную языковую модель, которая училась на огромном корпусе русских текстов. Считается, что большие языковые модели хорошо выучивают естественный язык, потому с их помощью мы сможем оценивать качество наших маленьких моделей для генерации анекдотов. Для этого мы воспользуемся сервисом [HuggingFace](https://huggingface.co/), который содержит огромное число обученных моделей для самых разных задач. Изучите и реализуйте, [подсчет perplexity](https://huggingface.co/docs/transformers/perplexity), с использованием обученной языковой модели. В качестве модели возьмите [ruGPT3-small](https://huggingface.co/sberbank-ai/rugpt3small_based_on_gpt2). Сгенерируйте синтетические выборки тремя моделями, обученными выше (можете взять выборки из задания 6), и сравните их по perplexity."
   ]
  },
  {
   "cell_type": "code",
   "execution_count": null,
   "id": "cced66c2",
   "metadata": {},
   "outputs": [],
   "source": [
    "# YOUR CODE HERE (⊃｡•́‿•̀｡)⊃━✿✿✿✿✿✿"
   ]
  },
  {
   "cell_type": "markdown",
   "id": "b3c5d3dc",
   "metadata": {},
   "source": [
    "## Бонус (0.1 балл)\n",
    "\n",
    "Покажите лучший анекдот, который удалось сгенерировать вашей модели. Если проверяющий найдет его смешным, то поставит 0.1 балла."
   ]
  },
  {
   "cell_type": "markdown",
   "id": "1840b3ee",
   "metadata": {},
   "source": [
    "*заходит улитка в бар и говорит- а что, у меня нет денег, а я не могу.*\n",
    "\n",
    "*штирлиц начал, что в россии - это когда в россии.*\n",
    "\n",
    "*- папа, мама, а ты сейчас где?- коридор!*\n",
    "\n",
    "*заходит улитка в бар и говорит- а я вчера прошел в публичный дом-то!*"
   ]
  }
 ],
 "metadata": {
  "kernelspec": {
   "display_name": "Python 3 (ipykernel)",
   "language": "python",
   "name": "python3"
  },
  "language_info": {
   "codemirror_mode": {
    "name": "ipython",
    "version": 3
   },
   "file_extension": ".py",
   "mimetype": "text/x-python",
   "name": "python",
   "nbconvert_exporter": "python",
   "pygments_lexer": "ipython3",
   "version": "3.10.10"
  },
  "toc": {
   "base_numbering": 1,
   "nav_menu": {},
   "number_sections": true,
   "sideBar": true,
   "skip_h1_title": false,
   "title_cell": "Table of Contents",
   "title_sidebar": "Contents",
   "toc_cell": false,
   "toc_position": {},
   "toc_section_display": true,
   "toc_window_display": false
  },
  "varInspector": {
   "cols": {
    "lenName": 16,
    "lenType": 16,
    "lenVar": 40
   },
   "kernels_config": {
    "python": {
     "delete_cmd_postfix": "",
     "delete_cmd_prefix": "del ",
     "library": "var_list.py",
     "varRefreshCmd": "print(var_dic_list())"
    },
    "r": {
     "delete_cmd_postfix": ") ",
     "delete_cmd_prefix": "rm(",
     "library": "var_list.r",
     "varRefreshCmd": "cat(var_dic_list()) "
    }
   },
   "types_to_exclude": [
    "module",
    "function",
    "builtin_function_or_method",
    "instance",
    "_Feature"
   ],
   "window_display": false
  }
 },
 "nbformat": 4,
 "nbformat_minor": 5
}
